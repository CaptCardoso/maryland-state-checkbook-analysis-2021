{
 "cells": [
  {
   "cell_type": "code",
   "execution_count": 3,
   "id": "f1e20dff-2a27-46d7-8dd3-bf55442a6bbf",
   "metadata": {},
   "outputs": [],
   "source": [
    "import pandas as pd\n",
    "import numpy as np\n",
    "import matplotlib.pyplot as plt\n",
    "from bs4 import BeautifulSoup\n",
    "import requests\n",
    "import time\n",
    "import random"
   ]
  },
  {
   "cell_type": "markdown",
   "id": "6172a2bb-9b30-44ec-b338-7df9ee97ed11",
   "metadata": {},
   "source": [
    "#### Use the get method to get the html from the url "
   ]
  },
  {
   "cell_type": "code",
   "execution_count": 4,
   "id": "c2081da0-1d3a-49bc-b6ef-3f1f44a900b1",
   "metadata": {},
   "outputs": [],
   "source": [
    "url = 'https://www.openthebooks.com/maryland-state-checkbook/?Year_C=2021&C_PG=1'\n",
    "res = requests.get(url)"
   ]
  },
  {
   "cell_type": "markdown",
   "id": "fe552fd2-a7a3-4c80-915e-4ad146718d0f",
   "metadata": {},
   "source": [
    "Check the status to see if it worked"
   ]
  },
  {
   "cell_type": "code",
   "execution_count": 5,
   "id": "d01d8889-7476-4894-974d-90e6e7d77300",
   "metadata": {},
   "outputs": [
    {
     "data": {
      "text/plain": [
       "200"
      ]
     },
     "execution_count": 5,
     "metadata": {},
     "output_type": "execute_result"
    }
   ],
   "source": [
    "res.status_code"
   ]
  },
  {
   "cell_type": "markdown",
   "id": "68c912bb-f06e-4f39-8af0-156824b9e4a4",
   "metadata": {},
   "source": [
    "##### Pull the HTML string out of requests and convert it to a Python string."
   ]
  },
  {
   "cell_type": "code",
   "execution_count": 6,
   "id": "3deda80b-13ec-4c0f-bea4-1171d1fe7c42",
   "metadata": {},
   "outputs": [],
   "source": [
    "html = res.text"
   ]
  },
  {
   "cell_type": "markdown",
   "id": "51935526-a60c-4241-b9ec-7e66ff5d1112",
   "metadata": {},
   "source": [
    "#### Using BeautifulSoup, parce the document into lxml format"
   ]
  },
  {
   "cell_type": "markdown",
   "id": "67479649-f0bc-4207-996e-ba3d396bbde2",
   "metadata": {},
   "source": [
    "lxml is a Python library which allows for easy handling of XML and HTML files \n",
    "\n",
    "<i>https://stackabuse.com/introduction-to-the-python-lxml-library/</i>                                       "
   ]
  },
  {
   "cell_type": "code",
   "execution_count": 7,
   "id": "750c7a4f-e0eb-4126-a25d-e856b4138923",
   "metadata": {},
   "outputs": [],
   "source": [
    "soup = BeautifulSoup(html, 'lxml')"
   ]
  },
  {
   "cell_type": "code",
   "execution_count": 8,
   "id": "3106b764-1524-4bca-8bd7-02ef6cfab3be",
   "metadata": {},
   "outputs": [],
   "source": [
    "table = soup.find('table', {'class':'employer-detail-table'})"
   ]
  },
  {
   "cell_type": "code",
   "execution_count": 9,
   "id": "589d509f-f8b8-41a6-9c30-6a2b8130526d",
   "metadata": {},
   "outputs": [
    {
     "data": {
      "text/plain": [
       "bs4.element.Tag"
      ]
     },
     "execution_count": 9,
     "metadata": {},
     "output_type": "execute_result"
    }
   ],
   "source": [
    "type(table)"
   ]
  },
  {
   "cell_type": "markdown",
   "id": "67803465-f8e8-4384-881a-71857dd5500d",
   "metadata": {},
   "source": [
    "#### Lets get the table header"
   ]
  },
  {
   "cell_type": "code",
   "execution_count": 10,
   "id": "575d773b-1174-4e36-a62c-add13320286e",
   "metadata": {},
   "outputs": [],
   "source": [
    "header = []\n",
    "for head in table.find_all('th'):\n",
    "    header.append(head.text)"
   ]
  },
  {
   "cell_type": "code",
   "execution_count": 11,
   "id": "095529cd-b5c6-4779-825c-d55dc082c06d",
   "metadata": {},
   "outputs": [
    {
     "data": {
      "text/plain": [
       "['Year', 'Employer', 'Vendor Name', 'Amount', 'Source']"
      ]
     },
     "execution_count": 11,
     "metadata": {},
     "output_type": "execute_result"
    }
   ],
   "source": [
    "header"
   ]
  },
  {
   "cell_type": "markdown",
   "id": "074534e8-1458-4694-9b9f-e94925d86c89",
   "metadata": {},
   "source": [
    "#### Loop through the table object and get each row"
   ]
  },
  {
   "cell_type": "code",
   "execution_count": 12,
   "id": "6cbedae2-1174-4b33-9fb1-94d00ef18531",
   "metadata": {},
   "outputs": [],
   "source": [
    "#empty list to append dictionary\n",
    "all_payout = []\n",
    "for row in table.find_all('tr')[1:]:\n",
    "    i = 0\n",
    "    payout = {}\n",
    "    for cell in row.find_all('td'):\n",
    "        payout[header[i]] = cell.text.strip()\n",
    "        i += 1\n",
    "    all_payout.append(payout)"
   ]
  },
  {
   "cell_type": "code",
   "execution_count": 13,
   "id": "4f597dd6-7e23-49f2-8467-b15f33648b2a",
   "metadata": {},
   "outputs": [
    {
     "data": {
      "text/html": [
       "<div>\n",
       "<style scoped>\n",
       "    .dataframe tbody tr th:only-of-type {\n",
       "        vertical-align: middle;\n",
       "    }\n",
       "\n",
       "    .dataframe tbody tr th {\n",
       "        vertical-align: top;\n",
       "    }\n",
       "\n",
       "    .dataframe thead th {\n",
       "        text-align: right;\n",
       "    }\n",
       "</style>\n",
       "<table border=\"1\" class=\"dataframe\">\n",
       "  <thead>\n",
       "    <tr style=\"text-align: right;\">\n",
       "      <th></th>\n",
       "      <th>Year</th>\n",
       "      <th>Employer</th>\n",
       "      <th>Vendor Name</th>\n",
       "      <th>Amount</th>\n",
       "      <th>Source</th>\n",
       "    </tr>\n",
       "  </thead>\n",
       "  <tbody>\n",
       "    <tr>\n",
       "      <th>0</th>\n",
       "      <td>2021</td>\n",
       "      <td>Maryland Department Of Health, Mdh</td>\n",
       "      <td>Priority Partners Mco</td>\n",
       "      <td>$1,713,212,267.00</td>\n",
       "      <td>Maryland Department Of Health, Mdh</td>\n",
       "    </tr>\n",
       "    <tr>\n",
       "      <th>1</th>\n",
       "      <td>2021</td>\n",
       "      <td>Maryland State Department Of Education</td>\n",
       "      <td>Prince Georges County Public School</td>\n",
       "      <td>$1,401,301,255.00</td>\n",
       "      <td>Maryland State Department Of Education</td>\n",
       "    </tr>\n",
       "    <tr>\n",
       "      <th>2</th>\n",
       "      <td>2021</td>\n",
       "      <td>Maryland Department Of Health, Mdh</td>\n",
       "      <td>Amerigroup Maryland Inc</td>\n",
       "      <td>$1,343,588,177.00</td>\n",
       "      <td>Maryland Department Of Health, Mdh</td>\n",
       "    </tr>\n",
       "    <tr>\n",
       "      <th>3</th>\n",
       "      <td>2021</td>\n",
       "      <td>Maryland Department Of Health, Mdh</td>\n",
       "      <td>Maryland Care Inc</td>\n",
       "      <td>$1,323,068,250.00</td>\n",
       "      <td>Maryland Department Of Health, Mdh</td>\n",
       "    </tr>\n",
       "    <tr>\n",
       "      <th>4</th>\n",
       "      <td>2021</td>\n",
       "      <td>Redemption And Interest On State Bonds</td>\n",
       "      <td>Depository Trust Company</td>\n",
       "      <td>$1,267,786,597.00</td>\n",
       "      <td>Redemption And Interest On State Bonds</td>\n",
       "    </tr>\n",
       "    <tr>\n",
       "      <th>...</th>\n",
       "      <td>...</td>\n",
       "      <td>...</td>\n",
       "      <td>...</td>\n",
       "      <td>...</td>\n",
       "      <td>...</td>\n",
       "    </tr>\n",
       "    <tr>\n",
       "      <th>95</th>\n",
       "      <td>2021</td>\n",
       "      <td>Maryland Higher Education Commission</td>\n",
       "      <td>Johns Hopkins University Physicians</td>\n",
       "      <td>$35,072,306.00</td>\n",
       "      <td>Maryland Higher Education Commission</td>\n",
       "    </tr>\n",
       "    <tr>\n",
       "      <th>96</th>\n",
       "      <td>2021</td>\n",
       "      <td>Maryland Department Of Labor</td>\n",
       "      <td>Anne Arundel County Md</td>\n",
       "      <td>$34,926,838.22</td>\n",
       "      <td>Maryland Department Of Labor</td>\n",
       "    </tr>\n",
       "    <tr>\n",
       "      <th>97</th>\n",
       "      <td>2021</td>\n",
       "      <td>Military Department</td>\n",
       "      <td>Montgomery County Maryland</td>\n",
       "      <td>$34,762,810.35</td>\n",
       "      <td>Military Department</td>\n",
       "    </tr>\n",
       "    <tr>\n",
       "      <th>98</th>\n",
       "      <td>2021</td>\n",
       "      <td>Maryland Department Of Labor</td>\n",
       "      <td>Accenture Llp</td>\n",
       "      <td>$34,025,167.83</td>\n",
       "      <td>Maryland Department Of Labor</td>\n",
       "    </tr>\n",
       "    <tr>\n",
       "      <th>99</th>\n",
       "      <td>2021</td>\n",
       "      <td>State Highway Admin</td>\n",
       "      <td>Maryland Traffic Relief Partners Rs&amp;H Lbus Wra Jv</td>\n",
       "      <td>$33,131,547.60</td>\n",
       "      <td>State Highway Admin</td>\n",
       "    </tr>\n",
       "  </tbody>\n",
       "</table>\n",
       "<p>100 rows × 5 columns</p>\n",
       "</div>"
      ],
      "text/plain": [
       "    Year                                Employer  \\\n",
       "0   2021      Maryland Department Of Health, Mdh   \n",
       "1   2021  Maryland State Department Of Education   \n",
       "2   2021      Maryland Department Of Health, Mdh   \n",
       "3   2021      Maryland Department Of Health, Mdh   \n",
       "4   2021  Redemption And Interest On State Bonds   \n",
       "..   ...                                     ...   \n",
       "95  2021    Maryland Higher Education Commission   \n",
       "96  2021            Maryland Department Of Labor   \n",
       "97  2021                     Military Department   \n",
       "98  2021            Maryland Department Of Labor   \n",
       "99  2021                     State Highway Admin   \n",
       "\n",
       "                                          Vendor Name             Amount  \\\n",
       "0                               Priority Partners Mco  $1,713,212,267.00   \n",
       "1                 Prince Georges County Public School  $1,401,301,255.00   \n",
       "2                             Amerigroup Maryland Inc  $1,343,588,177.00   \n",
       "3                                   Maryland Care Inc  $1,323,068,250.00   \n",
       "4                            Depository Trust Company  $1,267,786,597.00   \n",
       "..                                                ...                ...   \n",
       "95                Johns Hopkins University Physicians     $35,072,306.00   \n",
       "96                             Anne Arundel County Md     $34,926,838.22   \n",
       "97                         Montgomery County Maryland     $34,762,810.35   \n",
       "98                                      Accenture Llp     $34,025,167.83   \n",
       "99  Maryland Traffic Relief Partners Rs&H Lbus Wra Jv     $33,131,547.60   \n",
       "\n",
       "                                    Source  \n",
       "0       Maryland Department Of Health, Mdh  \n",
       "1   Maryland State Department Of Education  \n",
       "2       Maryland Department Of Health, Mdh  \n",
       "3       Maryland Department Of Health, Mdh  \n",
       "4   Redemption And Interest On State Bonds  \n",
       "..                                     ...  \n",
       "95    Maryland Higher Education Commission  \n",
       "96            Maryland Department Of Labor  \n",
       "97                     Military Department  \n",
       "98            Maryland Department Of Labor  \n",
       "99                     State Highway Admin  \n",
       "\n",
       "[100 rows x 5 columns]"
      ]
     },
     "execution_count": 13,
     "metadata": {},
     "output_type": "execute_result"
    }
   ],
   "source": [
    "pd.DataFrame(all_payout)"
   ]
  },
  {
   "cell_type": "markdown",
   "id": "7d1b4282-a223-4b7c-b9d8-6f2a08facc6f",
   "metadata": {},
   "source": [
    "Now let's do this for all 10,000 pages"
   ]
  },
  {
   "cell_type": "code",
   "execution_count": 14,
   "id": "9b101394-204e-4d66-822c-18b51a6922e9",
   "metadata": {},
   "outputs": [],
   "source": [
    "all_pages = []\n",
    "for i in range(1,3):\n",
    "    url = 'https://www.openthebooks.com/maryland-state-checkbook/?Year_C=2021&C_PG=' + str(i)\n",
    "    \n",
    "    res = requests.get(url)\n",
    "    soup = BeautifulSoup(res.text, 'lxml')\n",
    "    table = soup.find('table', {'class':'employer-detail-table'})\n",
    "    \n",
    "    for row in table.find_all('tr')[1:]:\n",
    "        count = 0\n",
    "        payout = {}\n",
    "        for cell in row.find_all('td'):        \n",
    "            payout[header[count]] = cell.text.strip()\n",
    "            count += 1\n",
    "        all_pages.append(payout)\n",
    "    time.sleep(5)"
   ]
  },
  {
   "cell_type": "code",
   "execution_count": 15,
   "id": "4d59a515-b51e-4809-9ade-4e2784535acb",
   "metadata": {},
   "outputs": [],
   "source": [
    "df = pd.DataFrame(all_pages)"
   ]
  },
  {
   "cell_type": "markdown",
   "id": "4dedfd1c-2f96-486a-aba2-52c2f6114402",
   "metadata": {},
   "source": [
    "#### Export"
   ]
  },
  {
   "cell_type": "code",
   "execution_count": 20,
   "id": "e58a6a09-b848-47af-9f25-b4cf72fc0a04",
   "metadata": {},
   "outputs": [],
   "source": [
    "df.to_csv('data/Maryland_State_Checkbook_raw.csv', index=False)"
   ]
  },
  {
   "cell_type": "code",
   "execution_count": null,
   "id": "9e0ec196-cc4d-448e-9194-1a4c8eb11a30",
   "metadata": {},
   "outputs": [],
   "source": []
  }
 ],
 "metadata": {
  "kernelspec": {
   "display_name": "Python 3 (ipykernel)",
   "language": "python",
   "name": "python3"
  },
  "language_info": {
   "codemirror_mode": {
    "name": "ipython",
    "version": 3
   },
   "file_extension": ".py",
   "mimetype": "text/x-python",
   "name": "python",
   "nbconvert_exporter": "python",
   "pygments_lexer": "ipython3",
   "version": "3.10.2"
  },
  "widgets": {
   "application/vnd.jupyter.widget-state+json": {
    "state": {},
    "version_major": 2,
    "version_minor": 0
   }
  }
 },
 "nbformat": 4,
 "nbformat_minor": 5
}
