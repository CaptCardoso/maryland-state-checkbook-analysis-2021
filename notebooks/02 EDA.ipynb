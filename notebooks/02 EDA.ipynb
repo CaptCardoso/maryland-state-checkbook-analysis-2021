{
 "cells": [
  {
   "cell_type": "code",
   "execution_count": 33,
   "id": "d501f8dd-4496-4c59-8000-13576534c113",
   "metadata": {},
   "outputs": [],
   "source": [
    "import pandas as pd\n",
    "import numpy as np\n",
    "import matplotlib.pyplot as plt\n",
    "from bs4 import BeautifulSoup\n",
    "import requests\n",
    "import time\n",
    "import random"
   ]
  },
  {
   "cell_type": "markdown",
   "id": "4dc480bb-23f9-402e-9e78-738603bc3254",
   "metadata": {},
   "source": [
    "#### Import the data"
   ]
  },
  {
   "cell_type": "code",
   "execution_count": 34,
   "id": "295387fb-ee93-4f2c-b7e3-9bbc3e00c8d5",
   "metadata": {},
   "outputs": [
    {
     "data": {
      "text/html": [
       "<div>\n",
       "<style scoped>\n",
       "    .dataframe tbody tr th:only-of-type {\n",
       "        vertical-align: middle;\n",
       "    }\n",
       "\n",
       "    .dataframe tbody tr th {\n",
       "        vertical-align: top;\n",
       "    }\n",
       "\n",
       "    .dataframe thead th {\n",
       "        text-align: right;\n",
       "    }\n",
       "</style>\n",
       "<table border=\"1\" class=\"dataframe\">\n",
       "  <thead>\n",
       "    <tr style=\"text-align: right;\">\n",
       "      <th></th>\n",
       "      <th>Year</th>\n",
       "      <th>Employer</th>\n",
       "      <th>Vendor Name</th>\n",
       "      <th>Amount</th>\n",
       "      <th>Source</th>\n",
       "    </tr>\n",
       "  </thead>\n",
       "  <tbody>\n",
       "    <tr>\n",
       "      <th>0</th>\n",
       "      <td>2021</td>\n",
       "      <td>Maryland Department Of Health, Mdh</td>\n",
       "      <td>Priority Partners Mco</td>\n",
       "      <td>$1,713,212,267.00</td>\n",
       "      <td>Maryland Department Of Health, Mdh</td>\n",
       "    </tr>\n",
       "    <tr>\n",
       "      <th>1</th>\n",
       "      <td>2021</td>\n",
       "      <td>Maryland State Department Of Education</td>\n",
       "      <td>Prince Georges County Public School</td>\n",
       "      <td>$1,401,301,255.00</td>\n",
       "      <td>Maryland State Department Of Education</td>\n",
       "    </tr>\n",
       "    <tr>\n",
       "      <th>2</th>\n",
       "      <td>2021</td>\n",
       "      <td>Maryland Department Of Health, Mdh</td>\n",
       "      <td>Amerigroup Maryland Inc</td>\n",
       "      <td>$1,343,588,177.00</td>\n",
       "      <td>Maryland Department Of Health, Mdh</td>\n",
       "    </tr>\n",
       "    <tr>\n",
       "      <th>3</th>\n",
       "      <td>2021</td>\n",
       "      <td>Maryland Department Of Health, Mdh</td>\n",
       "      <td>Maryland Care Inc</td>\n",
       "      <td>$1,323,068,250.00</td>\n",
       "      <td>Maryland Department Of Health, Mdh</td>\n",
       "    </tr>\n",
       "    <tr>\n",
       "      <th>4</th>\n",
       "      <td>2021</td>\n",
       "      <td>Redemption And Interest On State Bonds</td>\n",
       "      <td>Depository Trust Company</td>\n",
       "      <td>$1,267,786,597.00</td>\n",
       "      <td>Redemption And Interest On State Bonds</td>\n",
       "    </tr>\n",
       "  </tbody>\n",
       "</table>\n",
       "</div>"
      ],
      "text/plain": [
       "   Year                                Employer  \\\n",
       "0  2021      Maryland Department Of Health, Mdh   \n",
       "1  2021  Maryland State Department Of Education   \n",
       "2  2021      Maryland Department Of Health, Mdh   \n",
       "3  2021      Maryland Department Of Health, Mdh   \n",
       "4  2021  Redemption And Interest On State Bonds   \n",
       "\n",
       "                           Vendor Name             Amount  \\\n",
       "0                Priority Partners Mco  $1,713,212,267.00   \n",
       "1  Prince Georges County Public School  $1,401,301,255.00   \n",
       "2              Amerigroup Maryland Inc  $1,343,588,177.00   \n",
       "3                    Maryland Care Inc  $1,323,068,250.00   \n",
       "4             Depository Trust Company  $1,267,786,597.00   \n",
       "\n",
       "                                   Source  \n",
       "0      Maryland Department Of Health, Mdh  \n",
       "1  Maryland State Department Of Education  \n",
       "2      Maryland Department Of Health, Mdh  \n",
       "3      Maryland Department Of Health, Mdh  \n",
       "4  Redemption And Interest On State Bonds  "
      ]
     },
     "execution_count": 34,
     "metadata": {},
     "output_type": "execute_result"
    }
   ],
   "source": [
    "df = pd.read_csv('data/Maryland_State_Checkbook_raw.csv')\n",
    "df.head()"
   ]
  },
  {
   "cell_type": "markdown",
   "id": "f37a03ce-daeb-442e-83af-d96fd4c3dff3",
   "metadata": {},
   "source": [
    "#### Check for nulls"
   ]
  },
  {
   "cell_type": "code",
   "execution_count": 35,
   "id": "f64d20f8-16ac-4265-adb5-4fb7e6cc962a",
   "metadata": {},
   "outputs": [
    {
     "data": {
      "text/plain": [
       "Year           0\n",
       "Employer       0\n",
       "Vendor Name    0\n",
       "Amount         0\n",
       "Source         0\n",
       "dtype: int64"
      ]
     },
     "execution_count": 35,
     "metadata": {},
     "output_type": "execute_result"
    }
   ],
   "source": [
    "df.isnull().sum()"
   ]
  },
  {
   "cell_type": "markdown",
   "id": "50b5fe05-52df-4eb6-8f2d-175a1402d150",
   "metadata": {},
   "source": [
    "#### Convert the Amount column to integer by removing the \"$\" sign"
   ]
  },
  {
   "cell_type": "code",
   "execution_count": 36,
   "id": "a788ac95-4094-43cf-96a7-b17b45f63026",
   "metadata": {},
   "outputs": [],
   "source": [
    "def remove_symbols(amount):\n",
    "    symbols = ['$' , ',']\n",
    "    money = ''\n",
    "    for char in amount:\n",
    "        if char not in symbols:\n",
    "            money += char\n",
    "    return int(float(money))"
   ]
  },
  {
   "cell_type": "code",
   "execution_count": 37,
   "id": "39229dae-a814-40ac-905d-48acafbb0a49",
   "metadata": {},
   "outputs": [],
   "source": [
    "df['Amount'] = df['Amount'].map(remove_symbols)"
   ]
  },
  {
   "cell_type": "code",
   "execution_count": 39,
   "id": "7533ca62-14bb-43d9-bf58-621bc3dce1a5",
   "metadata": {},
   "outputs": [
    {
     "data": {
      "text/html": [
       "<div>\n",
       "<style scoped>\n",
       "    .dataframe tbody tr th:only-of-type {\n",
       "        vertical-align: middle;\n",
       "    }\n",
       "\n",
       "    .dataframe tbody tr th {\n",
       "        vertical-align: top;\n",
       "    }\n",
       "\n",
       "    .dataframe thead th {\n",
       "        text-align: right;\n",
       "    }\n",
       "</style>\n",
       "<table border=\"1\" class=\"dataframe\">\n",
       "  <thead>\n",
       "    <tr style=\"text-align: right;\">\n",
       "      <th></th>\n",
       "      <th>Year</th>\n",
       "      <th>Employer</th>\n",
       "      <th>Vendor Name</th>\n",
       "      <th>Amount</th>\n",
       "      <th>Source</th>\n",
       "    </tr>\n",
       "  </thead>\n",
       "  <tbody>\n",
       "    <tr>\n",
       "      <th>0</th>\n",
       "      <td>2021</td>\n",
       "      <td>Maryland Department Of Health, Mdh</td>\n",
       "      <td>Priority Partners Mco</td>\n",
       "      <td>1713212267</td>\n",
       "      <td>Maryland Department Of Health, Mdh</td>\n",
       "    </tr>\n",
       "    <tr>\n",
       "      <th>1</th>\n",
       "      <td>2021</td>\n",
       "      <td>Maryland State Department Of Education</td>\n",
       "      <td>Prince Georges County Public School</td>\n",
       "      <td>1401301255</td>\n",
       "      <td>Maryland State Department Of Education</td>\n",
       "    </tr>\n",
       "    <tr>\n",
       "      <th>2</th>\n",
       "      <td>2021</td>\n",
       "      <td>Maryland Department Of Health, Mdh</td>\n",
       "      <td>Amerigroup Maryland Inc</td>\n",
       "      <td>1343588177</td>\n",
       "      <td>Maryland Department Of Health, Mdh</td>\n",
       "    </tr>\n",
       "    <tr>\n",
       "      <th>3</th>\n",
       "      <td>2021</td>\n",
       "      <td>Maryland Department Of Health, Mdh</td>\n",
       "      <td>Maryland Care Inc</td>\n",
       "      <td>1323068250</td>\n",
       "      <td>Maryland Department Of Health, Mdh</td>\n",
       "    </tr>\n",
       "    <tr>\n",
       "      <th>4</th>\n",
       "      <td>2021</td>\n",
       "      <td>Redemption And Interest On State Bonds</td>\n",
       "      <td>Depository Trust Company</td>\n",
       "      <td>1267786597</td>\n",
       "      <td>Redemption And Interest On State Bonds</td>\n",
       "    </tr>\n",
       "  </tbody>\n",
       "</table>\n",
       "</div>"
      ],
      "text/plain": [
       "   Year                                Employer  \\\n",
       "0  2021      Maryland Department Of Health, Mdh   \n",
       "1  2021  Maryland State Department Of Education   \n",
       "2  2021      Maryland Department Of Health, Mdh   \n",
       "3  2021      Maryland Department Of Health, Mdh   \n",
       "4  2021  Redemption And Interest On State Bonds   \n",
       "\n",
       "                           Vendor Name      Amount  \\\n",
       "0                Priority Partners Mco  1713212267   \n",
       "1  Prince Georges County Public School  1401301255   \n",
       "2              Amerigroup Maryland Inc  1343588177   \n",
       "3                    Maryland Care Inc  1323068250   \n",
       "4             Depository Trust Company  1267786597   \n",
       "\n",
       "                                   Source  \n",
       "0      Maryland Department Of Health, Mdh  \n",
       "1  Maryland State Department Of Education  \n",
       "2      Maryland Department Of Health, Mdh  \n",
       "3      Maryland Department Of Health, Mdh  \n",
       "4  Redemption And Interest On State Bonds  "
      ]
     },
     "execution_count": 39,
     "metadata": {},
     "output_type": "execute_result"
    }
   ],
   "source": [
    "df.head()"
   ]
  },
  {
   "cell_type": "code",
   "execution_count": 40,
   "id": "249d2cb4-530b-4cc5-b7bd-32c36d5800ed",
   "metadata": {},
   "outputs": [
    {
     "data": {
      "text/plain": [
       "0      1713212267\n",
       "1      1401301255\n",
       "2      1343588177\n",
       "3      1323068250\n",
       "4      1267786597\n",
       "          ...    \n",
       "195      17477452\n",
       "196      17447225\n",
       "197      17175829\n",
       "198      17172407\n",
       "199      17157935\n",
       "Name: Amount, Length: 200, dtype: int64"
      ]
     },
     "execution_count": 40,
     "metadata": {},
     "output_type": "execute_result"
    }
   ],
   "source": [
    "df['Amount'].sort_values(ascending=False)"
   ]
  },
  {
   "cell_type": "code",
   "execution_count": 41,
   "id": "8dc11531-11d7-4720-8cc0-ef172f2fbfed",
   "metadata": {},
   "outputs": [],
   "source": [
    "df['First_digit'] = df['Amount'].map(lambda amount: str(amount)[0])"
   ]
  },
  {
   "cell_type": "code",
   "execution_count": 42,
   "id": "e4712353-8986-434c-bf84-2bf1d9868ae5",
   "metadata": {},
   "outputs": [
    {
     "data": {
      "text/html": [
       "<div>\n",
       "<style scoped>\n",
       "    .dataframe tbody tr th:only-of-type {\n",
       "        vertical-align: middle;\n",
       "    }\n",
       "\n",
       "    .dataframe tbody tr th {\n",
       "        vertical-align: top;\n",
       "    }\n",
       "\n",
       "    .dataframe thead th {\n",
       "        text-align: right;\n",
       "    }\n",
       "</style>\n",
       "<table border=\"1\" class=\"dataframe\">\n",
       "  <thead>\n",
       "    <tr style=\"text-align: right;\">\n",
       "      <th></th>\n",
       "      <th>Year</th>\n",
       "      <th>Employer</th>\n",
       "      <th>Vendor Name</th>\n",
       "      <th>Amount</th>\n",
       "      <th>Source</th>\n",
       "      <th>First_digit</th>\n",
       "    </tr>\n",
       "  </thead>\n",
       "  <tbody>\n",
       "    <tr>\n",
       "      <th>0</th>\n",
       "      <td>2021</td>\n",
       "      <td>Maryland Department Of Health, Mdh</td>\n",
       "      <td>Priority Partners Mco</td>\n",
       "      <td>1713212267</td>\n",
       "      <td>Maryland Department Of Health, Mdh</td>\n",
       "      <td>1</td>\n",
       "    </tr>\n",
       "    <tr>\n",
       "      <th>1</th>\n",
       "      <td>2021</td>\n",
       "      <td>Maryland State Department Of Education</td>\n",
       "      <td>Prince Georges County Public School</td>\n",
       "      <td>1401301255</td>\n",
       "      <td>Maryland State Department Of Education</td>\n",
       "      <td>1</td>\n",
       "    </tr>\n",
       "    <tr>\n",
       "      <th>2</th>\n",
       "      <td>2021</td>\n",
       "      <td>Maryland Department Of Health, Mdh</td>\n",
       "      <td>Amerigroup Maryland Inc</td>\n",
       "      <td>1343588177</td>\n",
       "      <td>Maryland Department Of Health, Mdh</td>\n",
       "      <td>1</td>\n",
       "    </tr>\n",
       "    <tr>\n",
       "      <th>3</th>\n",
       "      <td>2021</td>\n",
       "      <td>Maryland Department Of Health, Mdh</td>\n",
       "      <td>Maryland Care Inc</td>\n",
       "      <td>1323068250</td>\n",
       "      <td>Maryland Department Of Health, Mdh</td>\n",
       "      <td>1</td>\n",
       "    </tr>\n",
       "    <tr>\n",
       "      <th>4</th>\n",
       "      <td>2021</td>\n",
       "      <td>Redemption And Interest On State Bonds</td>\n",
       "      <td>Depository Trust Company</td>\n",
       "      <td>1267786597</td>\n",
       "      <td>Redemption And Interest On State Bonds</td>\n",
       "      <td>1</td>\n",
       "    </tr>\n",
       "  </tbody>\n",
       "</table>\n",
       "</div>"
      ],
      "text/plain": [
       "   Year                                Employer  \\\n",
       "0  2021      Maryland Department Of Health, Mdh   \n",
       "1  2021  Maryland State Department Of Education   \n",
       "2  2021      Maryland Department Of Health, Mdh   \n",
       "3  2021      Maryland Department Of Health, Mdh   \n",
       "4  2021  Redemption And Interest On State Bonds   \n",
       "\n",
       "                           Vendor Name      Amount  \\\n",
       "0                Priority Partners Mco  1713212267   \n",
       "1  Prince Georges County Public School  1401301255   \n",
       "2              Amerigroup Maryland Inc  1343588177   \n",
       "3                    Maryland Care Inc  1323068250   \n",
       "4             Depository Trust Company  1267786597   \n",
       "\n",
       "                                   Source First_digit  \n",
       "0      Maryland Department Of Health, Mdh           1  \n",
       "1  Maryland State Department Of Education           1  \n",
       "2      Maryland Department Of Health, Mdh           1  \n",
       "3      Maryland Department Of Health, Mdh           1  \n",
       "4  Redemption And Interest On State Bonds           1  "
      ]
     },
     "execution_count": 42,
     "metadata": {},
     "output_type": "execute_result"
    }
   ],
   "source": [
    "df.head()"
   ]
  },
  {
   "cell_type": "code",
   "execution_count": 47,
   "id": "775c3368-4da9-43b6-a1e5-bfd17ca21cd0",
   "metadata": {},
   "outputs": [],
   "source": [
    "percentages = df['First_digit'].value_counts(normalize=True).sort_index()"
   ]
  },
  {
   "cell_type": "code",
   "execution_count": 48,
   "id": "20ccc58a-8b2d-4ca8-ba1d-64fab21d7846",
   "metadata": {},
   "outputs": [
    {
     "data": {
      "image/png": "[encoded data removed]",
      "text/plain": [
       "<Figure size 432x288 with 1 Axes>"
      ]
     },
     "metadata": {
      "needs_background": "light"
     },
     "output_type": "display_data"
    }
   ],
   "source": [
    "digits = np.arange(1,10) # digits 1 - 9\n",
    "digits\n",
    "\n",
    "benford_percentages = np.log10(1 + 1 / digits)\n",
    "benford_percentages\n",
    "\n",
    "plt.bar(digits, benford_percentages)\n",
    "plt.xticks(digits);"
   ]
  },
  {
   "cell_type": "code",
   "execution_count": 49,
   "id": "115351d6-bbea-4292-bb11-999bf69ac590",
   "metadata": {},
   "outputs": [
    {
     "data": {
      "image/png": "[encoded data removed]",
      "text/plain": [
       "<Figure size 432x288 with 1 Axes>"
      ]
     },
     "metadata": {
      "needs_background": "light"
     },
     "output_type": "display_data"
    }
   ],
   "source": [
    "plt.bar(percentages.index, percentages )\n",
    "plt.xticks(digits)\n",
    "plt.plot(percentages, color='y', marker='x');"
   ]
  },
  {
   "cell_type": "code",
   "execution_count": null,
   "id": "578c7765-3b73-4443-91c8-88b33b1d6fe0",
   "metadata": {},
   "outputs": [],
   "source": []
  }
 ],
 "metadata": {
  "kernelspec": {
   "display_name": "Python 3 (ipykernel)",
   "language": "python",
   "name": "python3"
  },
  "language_info": {
   "codemirror_mode": {
    "name": "ipython",
    "version": 3
   },
   "file_extension": ".py",
   "mimetype": "text/x-python",
   "name": "python",
   "nbconvert_exporter": "python",
   "pygments_lexer": "ipython3",
   "version": "3.10.2"
  },
  "widgets": {
   "application/vnd.jupyter.widget-state+json": {
    "state": {},
    "version_major": 2,
    "version_minor": 0
   }
  }
 },
 "nbformat": 4,
 "nbformat_minor": 5
}
